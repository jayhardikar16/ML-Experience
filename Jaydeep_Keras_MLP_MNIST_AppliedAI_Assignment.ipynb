{
 "cells": [
  {
   "cell_type": "code",
   "execution_count": 3,
   "metadata": {
    "colab": {
     "base_uri": "https://localhost:8080/",
     "height": 68
    },
    "colab_type": "code",
    "executionInfo": {
     "elapsed": 4308,
     "status": "ok",
     "timestamp": 1555216925069,
     "user": {
      "displayName": "Jaydeep Hardikar",
      "photoUrl": "",
      "userId": "03409613889405035405"
     },
     "user_tz": -330
    },
    "id": "mLtsoc7EJH1i",
    "outputId": "e069e2b9-057a-476b-93a7-b9d91e45b52e"
   },
   "outputs": [
    {
     "name": "stderr",
     "output_type": "stream",
     "text": [
      "Using TensorFlow backend.\n"
     ]
    },
    {
     "name": "stdout",
     "output_type": "stream",
     "text": [
      "Downloading data from https://s3.amazonaws.com/img-datasets/mnist.npz\n",
      "11493376/11490434 [==============================] - 1s 0us/step\n"
     ]
    }
   ],
   "source": [
    "from keras.utils import np_utils \n",
    "from keras.datasets import mnist \n",
    "import seaborn as sns\n",
    "from keras.initializers import RandomNormal\n",
    "from keras.initializers import glorot_normal\n",
    "from keras.models import Sequential \n",
    "from keras.layers import Dense, Activation \n",
    "from keras.layers import Dropout\n",
    "from keras import regularizers\n",
    "import matplotlib.pyplot as plt\n",
    "import numpy as np\n",
    "import time\n",
    "# https://gist.github.com/greydanus/f6eee59eaf1d90fcb3b534a25362cea4\n",
    "# https://stackoverflow.com/a/14434334\n",
    "# this function is used to update the plots for each epoch and error\n",
    "def plt_dynamic(x, vy, ty, ax):\n",
    "    ax.plot(x, vy, 'b', label=\"Validation Loss\")\n",
    "    ax.plot(x, ty, 'r', label=\"Train Loss\")\n",
    "    plt.legend()\n",
    "    plt.grid()\n",
    "    fig.canvas.draw()\n",
    "\n",
    "#Loading data\n",
    "(X_train, Y_train), (X_test, Y_test) = mnist.load_data()\n",
    "\n",
    "#Converting 28*28 vector to single dimensional 1*784\n",
    "X_train = X_train.reshape(X_train.shape[0], X_train.shape[1]*X_train.shape[2]) \n",
    "X_test = X_test.reshape(X_test.shape[0], X_test.shape[1]*X_test.shape[2]) \n",
    "\n",
    "#Normalizing the input data\n",
    "#X => (X - Xmin)/(Xmax-Xmin) = X/255\n",
    "X_train = X_train/255\n",
    "X_test = X_test/255\n",
    "\n",
    "#One hot encoding the output \n",
    "Y_train = np_utils.to_categorical(Y_train, 10) \n",
    "Y_test = np_utils.to_categorical(Y_test, 10)\n",
    "\n",
    "#Declering variables to be used in the model\n",
    "batch_size = 128 \n",
    "nb_epoch = 15\n",
    "output_dim = 10\n",
    "input_dim = X_train.shape[1]\n",
    "\n",
    "#initializer = RandomNormal(mean=0.0, stddev=0.05, seed=None)\n",
    "initializer = glorot_normal()"
   ]
  },
  {
   "cell_type": "code",
   "execution_count": 4,
   "metadata": {
    "colab": {
     "base_uri": "https://localhost:8080/",
     "height": 1061
    },
    "colab_type": "code",
    "executionInfo": {
     "elapsed": 87413,
     "status": "ok",
     "timestamp": 1555217054375,
     "user": {
      "displayName": "Jaydeep Hardikar",
      "photoUrl": "",
      "userId": "03409613889405035405"
     },
     "user_tz": -330
    },
    "id": "2cNIC7-wJyqg",
    "outputId": "faf72e89-c3e7-424f-82f7-7253165a635c"
   },
   "outputs": [
    {
     "name": "stdout",
     "output_type": "stream",
     "text": [
      "WARNING:tensorflow:From /usr/local/lib/python3.6/dist-packages/tensorflow/python/framework/op_def_library.py:263: colocate_with (from tensorflow.python.framework.ops) is deprecated and will be removed in a future version.\n",
      "Instructions for updating:\n",
      "Colocations handled automatically by placer.\n",
      "WARNING:tensorflow:From /usr/local/lib/python3.6/dist-packages/keras/backend/tensorflow_backend.py:3445: calling dropout (from tensorflow.python.ops.nn_ops) with keep_prob is deprecated and will be removed in a future version.\n",
      "Instructions for updating:\n",
      "Please use `rate` instead of `keep_prob`. Rate should be set to `rate = 1 - keep_prob`.\n",
      "WARNING:tensorflow:From /usr/local/lib/python3.6/dist-packages/tensorflow/python/ops/math_ops.py:3066: to_int32 (from tensorflow.python.ops.math_ops) is deprecated and will be removed in a future version.\n",
      "Instructions for updating:\n",
      "Use tf.cast instead.\n",
      "Train on 60000 samples, validate on 10000 samples\n",
      "Epoch 1/15\n",
      "60000/60000 [==============================] - 7s 109us/step - loss: 0.6661 - acc: 0.8895 - val_loss: 0.3727 - val_acc: 0.9509\n",
      "Epoch 2/15\n",
      "60000/60000 [==============================] - 6s 95us/step - loss: 0.3615 - acc: 0.9482 - val_loss: 0.2680 - val_acc: 0.9676\n",
      "Epoch 3/15\n",
      "60000/60000 [==============================] - 6s 95us/step - loss: 0.2967 - acc: 0.9566 - val_loss: 0.2411 - val_acc: 0.9673\n",
      "Epoch 4/15\n",
      "60000/60000 [==============================] - 6s 94us/step - loss: 0.2679 - acc: 0.9604 - val_loss: 0.2278 - val_acc: 0.9689\n",
      "Epoch 5/15\n",
      "60000/60000 [==============================] - 6s 94us/step - loss: 0.2506 - acc: 0.9623 - val_loss: 0.2078 - val_acc: 0.9722\n",
      "Epoch 6/15\n",
      "60000/60000 [==============================] - 6s 94us/step - loss: 0.2379 - acc: 0.9654 - val_loss: 0.2099 - val_acc: 0.9710\n",
      "Epoch 7/15\n",
      "60000/60000 [==============================] - 6s 94us/step - loss: 0.2304 - acc: 0.9661 - val_loss: 0.2196 - val_acc: 0.9674\n",
      "Epoch 8/15\n",
      "60000/60000 [==============================] - 6s 93us/step - loss: 0.2256 - acc: 0.9666 - val_loss: 0.2029 - val_acc: 0.9720\n",
      "Epoch 9/15\n",
      "60000/60000 [==============================] - 6s 94us/step - loss: 0.2250 - acc: 0.9666 - val_loss: 0.1939 - val_acc: 0.9738\n",
      "Epoch 10/15\n",
      "60000/60000 [==============================] - 6s 94us/step - loss: 0.2150 - acc: 0.9687 - val_loss: 0.1936 - val_acc: 0.9750\n",
      "Epoch 11/15\n",
      "60000/60000 [==============================] - 6s 94us/step - loss: 0.2177 - acc: 0.9675 - val_loss: 0.1833 - val_acc: 0.9782\n",
      "Epoch 12/15\n",
      "60000/60000 [==============================] - 6s 93us/step - loss: 0.2086 - acc: 0.9695 - val_loss: 0.1822 - val_acc: 0.9757\n",
      "Epoch 13/15\n",
      "60000/60000 [==============================] - 6s 93us/step - loss: 0.2072 - acc: 0.9693 - val_loss: 0.1832 - val_acc: 0.9750\n",
      "Epoch 14/15\n",
      "60000/60000 [==============================] - 6s 93us/step - loss: 0.2033 - acc: 0.9696 - val_loss: 0.1781 - val_acc: 0.9770\n",
      "Epoch 15/15\n",
      "60000/60000 [==============================] - 6s 97us/step - loss: 0.1988 - acc: 0.9706 - val_loss: 0.1748 - val_acc: 0.9774\n"
     ]
    },
    {
     "data": {
      "image/png": "[encoded data removed]",
      "text/plain": [
       "<Figure size 576x396 with 1 Axes>"
      ]
     },
     "metadata": {
      "tags": []
     },
     "output_type": "display_data"
    }
   ],
   "source": [
    "#2Layer(364,52 Layer Model)\n",
    "\n",
    "def plt_dynamic(x, vy, ty, ax):\n",
    "    ax.plot(x, vy, 'b', label=\"Validation Loss\")\n",
    "    ax.plot(x, ty, 'r', label=\"Train Loss\")\n",
    "    plt.legend()\n",
    "    plt.grid()\n",
    "    fig.canvas.draw()\n",
    "\n",
    "model_2layer = Sequential()\n",
    "L2_droprate = 0.2\n",
    "L2_reg = 0.001\n",
    "model_2layer.add(Dense(364, kernel_regularizer=regularizers.l2(L2_reg),input_shape=(input_dim,),kernel_initializer = initializer,activation='relu'))\n",
    "model_2layer.add(Dropout(L2_droprate))\n",
    "model_2layer.add(Dense(52, kernel_regularizer=regularizers.l2(L2_reg),activation='relu'))\n",
    "model_2layer.add(Dropout(L2_droprate))\n",
    "model_2layer.add(Dense(output_dim, activation='softmax'))\n",
    "#Compiling the model\n",
    "model_2layer.compile(optimizer = 'adam',loss = 'categorical_crossentropy',metrics = ['accuracy'])\n",
    "#Running the model on test data\n",
    "history = model_2layer.fit(X_train, Y_train,epochs =nb_epoch,batch_size =128,validation_data = (X_test,Y_test))\n",
    "#Plotting the train vs test Categorical Crossentropy loss\n",
    "#Code Reference - Applied AI course\n",
    "fig,ax = plt.subplots(1,1)\n",
    "ax.set_xlabel('epoch') ; ax.set_ylabel('Categorical Crossentropy Loss')\n",
    "x = list(range(1,nb_epoch+1))\n",
    "vy = history.history['val_loss']\n",
    "ty = history.history['loss']\n",
    "L2_trainloss =ty[14]\n",
    "L2_valloss=vy[14]\n",
    "\n",
    "plt_dynamic(x, vy, ty, ax)"
   ]
  },
  {
   "cell_type": "code",
   "execution_count": 5,
   "metadata": {
    "colab": {
     "base_uri": "https://localhost:8080/",
     "height": 888
    },
    "colab_type": "code",
    "executionInfo": {
     "elapsed": 200870,
     "status": "ok",
     "timestamp": 1555218989539,
     "user": {
      "displayName": "Jaydeep Hardikar",
      "photoUrl": "",
      "userId": "03409613889405035405"
     },
     "user_tz": -330
    },
    "id": "4Zf9cA26Qxyn",
    "outputId": "f56c1d81-6e02-4595-ba74-0f899b2963ac"
   },
   "outputs": [
    {
     "name": "stdout",
     "output_type": "stream",
     "text": [
      "Train on 60000 samples, validate on 10000 samples\n",
      "Epoch 1/15\n",
      "60000/60000 [==============================] - 14s 236us/step - loss: 2.6865 - acc: 0.9029 - val_loss: 0.6174 - val_acc: 0.9427\n",
      "Epoch 2/15\n",
      "60000/60000 [==============================] - 13s 219us/step - loss: 0.5703 - acc: 0.9323 - val_loss: 0.4889 - val_acc: 0.9424\n",
      "Epoch 3/15\n",
      "60000/60000 [==============================] - 13s 219us/step - loss: 0.5227 - acc: 0.9313 - val_loss: 0.4453 - val_acc: 0.9485\n",
      "Epoch 4/15\n",
      "60000/60000 [==============================] - 13s 219us/step - loss: 0.4813 - acc: 0.9355 - val_loss: 0.4475 - val_acc: 0.9379\n",
      "Epoch 5/15\n",
      "60000/60000 [==============================] - 13s 218us/step - loss: 0.4737 - acc: 0.9341 - val_loss: 0.4378 - val_acc: 0.9428\n",
      "Epoch 6/15\n",
      "60000/60000 [==============================] - 13s 219us/step - loss: 0.4544 - acc: 0.9357 - val_loss: 0.3980 - val_acc: 0.9492\n",
      "Epoch 7/15\n",
      "60000/60000 [==============================] - 13s 219us/step - loss: 0.4403 - acc: 0.9372 - val_loss: 0.3679 - val_acc: 0.9520\n",
      "Epoch 8/15\n",
      "60000/60000 [==============================] - 13s 219us/step - loss: 0.4338 - acc: 0.9369 - val_loss: 0.3649 - val_acc: 0.9539\n",
      "Epoch 9/15\n",
      "60000/60000 [==============================] - 13s 218us/step - loss: 0.4208 - acc: 0.9381 - val_loss: 0.3700 - val_acc: 0.9482\n",
      "Epoch 10/15\n",
      "60000/60000 [==============================] - 14s 226us/step - loss: 0.4216 - acc: 0.9366 - val_loss: 0.3463 - val_acc: 0.9565\n",
      "Epoch 11/15\n",
      "60000/60000 [==============================] - 13s 222us/step - loss: 0.4099 - acc: 0.9375 - val_loss: 0.3372 - val_acc: 0.9564\n",
      "Epoch 12/15\n",
      "60000/60000 [==============================] - 13s 217us/step - loss: 0.4039 - acc: 0.9391 - val_loss: 0.3507 - val_acc: 0.9543\n",
      "Epoch 13/15\n",
      "60000/60000 [==============================] - 13s 219us/step - loss: 0.4017 - acc: 0.9382 - val_loss: 0.3409 - val_acc: 0.9534\n",
      "Epoch 14/15\n",
      "60000/60000 [==============================] - 13s 219us/step - loss: 0.3921 - acc: 0.9402 - val_loss: 0.3097 - val_acc: 0.9612\n",
      "Epoch 15/15\n",
      "60000/60000 [==============================] - 13s 218us/step - loss: 0.3934 - acc: 0.9377 - val_loss: 0.3380 - val_acc: 0.9531\n"
     ]
    },
    {
     "data": {
      "image/png": "[encoded data removed]",
      "text/plain": [
       "<Figure size 576x396 with 1 Axes>"
      ]
     },
     "metadata": {
      "tags": []
     },
     "output_type": "display_data"
    }
   ],
   "source": [
    "#3Layer(576,364,52 Layer Model)\n",
    "from keras.layers.normalization import BatchNormalization\n",
    "L3_droprate = 0.2\n",
    "L3_reg = 0.01\n",
    "model_3layer = Sequential()\n",
    "model_3layer.add(Dense(576, kernel_regularizer=regularizers.l2(L3_reg),kernel_initializer = initializer,input_shape=(input_dim,),activation='relu'))\n",
    "model_3layer.add(Dropout(L3_droprate))\n",
    "model_3layer.add(BatchNormalization())\n",
    "model_3layer.add(Dense(364, kernel_regularizer=regularizers.l2(L3_reg),activation='relu'))\n",
    "model_3layer.add(Dropout(L3_droprate))\n",
    "model_3layer.add(BatchNormalization())\n",
    "model_3layer.add(Dense(52, kernel_regularizer=regularizers.l2(L3_reg),activation='relu'))\n",
    "model_3layer.add(Dropout(L3_droprate))\n",
    "model_3layer.add(Dense(output_dim, activation='softmax'))\n",
    "#Compiling the model\n",
    "model_3layer.compile(optimizer = 'adam',loss = 'categorical_crossentropy',metrics = ['accuracy'])\n",
    "#Running the model on test data\n",
    "history = model_3layer.fit(X_train, Y_train,epochs =nb_epoch,batch_size =128,validation_data = (X_test,Y_test))\n",
    "#Plotting the train vs test Categorical Crossentropy loss\n",
    "#Code Reference - Applied AI course\n",
    "fig,ax = plt.subplots(1,1)\n",
    "ax.set_xlabel('epoch') ; ax.set_ylabel('Categorical Crossentropy Loss')\n",
    "x = list(range(1,nb_epoch+1))\n",
    "vy = history.history['val_loss']\n",
    "ty = history.history['loss']\n",
    "L3_trainloss =ty[14]\n",
    "L3_valloss=vy[14]\n",
    "plt_dynamic(x, vy, ty, ax)"
   ]
  },
  {
   "cell_type": "code",
   "execution_count": 6,
   "metadata": {
    "colab": {
     "base_uri": "https://localhost:8080/",
     "height": 888
    },
    "colab_type": "code",
    "executionInfo": {
     "elapsed": 330120,
     "status": "ok",
     "timestamp": 1555219278283,
     "user": {
      "displayName": "Jaydeep Hardikar",
      "photoUrl": "",
      "userId": "03409613889405035405"
     },
     "user_tz": -330
    },
    "id": "erkJtjJ3RZef",
    "outputId": "32512495-a0f4-4284-d922-feb2a16e357e"
   },
   "outputs": [
    {
     "name": "stdout",
     "output_type": "stream",
     "text": [
      "Train on 60000 samples, validate on 10000 samples\n",
      "Epoch 1/15\n",
      "60000/60000 [==============================] - 20s 341us/step - loss: 5.2947 - acc: 0.8500 - val_loss: 0.8876 - val_acc: 0.9281\n",
      "Epoch 2/15\n",
      "60000/60000 [==============================] - 19s 316us/step - loss: 0.8091 - acc: 0.9121 - val_loss: 0.6565 - val_acc: 0.9409\n",
      "Epoch 3/15\n",
      "60000/60000 [==============================] - 19s 316us/step - loss: 0.7449 - acc: 0.9150 - val_loss: 0.6486 - val_acc: 0.9381\n",
      "Epoch 4/15\n",
      "60000/60000 [==============================] - 19s 316us/step - loss: 0.7193 - acc: 0.9172 - val_loss: 0.6019 - val_acc: 0.9422\n",
      "Epoch 5/15\n",
      "60000/60000 [==============================] - 19s 317us/step - loss: 0.6970 - acc: 0.9185 - val_loss: 0.5654 - val_acc: 0.9511\n",
      "Epoch 6/15\n",
      "60000/60000 [==============================] - 19s 317us/step - loss: 0.6829 - acc: 0.9180 - val_loss: 0.5655 - val_acc: 0.9487\n",
      "Epoch 7/15\n",
      "60000/60000 [==============================] - 19s 317us/step - loss: 0.6662 - acc: 0.9192 - val_loss: 0.5818 - val_acc: 0.9437\n",
      "Epoch 8/15\n",
      "60000/60000 [==============================] - 19s 315us/step - loss: 0.6460 - acc: 0.9219 - val_loss: 0.5109 - val_acc: 0.9568\n",
      "Epoch 9/15\n",
      "60000/60000 [==============================] - 19s 316us/step - loss: 0.6464 - acc: 0.9216 - val_loss: 0.5275 - val_acc: 0.9494\n",
      "Epoch 10/15\n",
      "60000/60000 [==============================] - 19s 315us/step - loss: 0.6420 - acc: 0.9217 - val_loss: 0.5123 - val_acc: 0.9528\n",
      "Epoch 11/15\n",
      "60000/60000 [==============================] - 19s 316us/step - loss: 0.6282 - acc: 0.9243 - val_loss: 0.5047 - val_acc: 0.9554\n",
      "Epoch 12/15\n",
      "60000/60000 [==============================] - 19s 315us/step - loss: 0.6315 - acc: 0.9224 - val_loss: 0.5197 - val_acc: 0.9534\n",
      "Epoch 13/15\n",
      "60000/60000 [==============================] - 20s 327us/step - loss: 0.6187 - acc: 0.9244 - val_loss: 0.4777 - val_acc: 0.9552\n",
      "Epoch 14/15\n",
      "60000/60000 [==============================] - 19s 317us/step - loss: 0.6171 - acc: 0.9227 - val_loss: 0.4903 - val_acc: 0.9558\n",
      "Epoch 15/15\n",
      "60000/60000 [==============================] - 19s 315us/step - loss: 0.6068 - acc: 0.9239 - val_loss: 0.4721 - val_acc: 0.9594\n"
     ]
    },
    {
     "data": {
      "image/png": "[encoded data removed]",
      "text/plain": [
       "<Figure size 576x396 with 1 Axes>"
      ]
     },
     "metadata": {
      "tags": []
     },
     "output_type": "display_data"
    }
   ],
   "source": [
    "#5Layer(512,448,384,320,256 Layer Model)\n",
    "model_5layer = Sequential()\n",
    "L5_droprate = 0.3\n",
    "L5_reg = 0.01\n",
    "model_5layer.add(Dense(512, kernel_regularizer=regularizers.l2(L5_reg),kernel_initializer = initializer, input_shape=(input_dim,),activation='relu'))\n",
    "model_5layer.add(Dropout(L5_droprate))\n",
    "model_5layer.add(Dense(448, kernel_regularizer=regularizers.l2(L5_reg),activation='relu'))\n",
    "model_5layer.add(Dropout(L5_droprate))\n",
    "model_5layer.add(BatchNormalization())\n",
    "model_5layer.add(Dense(384, kernel_regularizer=regularizers.l2(L5_reg),activation='relu'))\n",
    "model_5layer.add(Dropout(L5_droprate ))\n",
    "model_5layer.add(BatchNormalization())\n",
    "model_5layer.add(Dense(320, kernel_regularizer=regularizers.l2(L5_reg),activation='relu'))\n",
    "model_5layer.add(Dropout(L5_droprate))\n",
    "model_5layer.add(BatchNormalization())\n",
    "model_5layer.add(Dense(256, kernel_regularizer=regularizers.l2(L5_reg),activation='relu'))\n",
    "model_5layer.add(Dropout(L5_droprate))\n",
    "model_5layer.add(Dense(output_dim, activation='softmax'))\n",
    "#Compiling the model\n",
    "model_5layer.compile(optimizer = 'adam',loss = 'categorical_crossentropy',metrics = ['accuracy'])\n",
    "#Running the model on test data\n",
    "history = model_5layer.fit(X_train, Y_train,epochs =nb_epoch,batch_size =128,validation_data = (X_test,Y_test))\n",
    "#Plotting the train vs test Categorical Crossentropy loss\n",
    "#Code Reference - Applied AI course\n",
    "fig,ax = plt.subplots(1,1)\n",
    "ax.set_xlabel('epoch') ; ax.set_ylabel('Categorical Crossentropy Loss')\n",
    "x = list(range(1,nb_epoch+1))\n",
    "vy = history.history['val_loss']\n",
    "ty = history.history['loss']\n",
    "L5_trainloss =ty[14]\n",
    "L5_valloss=vy[14]\n",
    "plt_dynamic(x, vy, ty, ax)"
   ]
  },
  {
   "cell_type": "code",
   "execution_count": 7,
   "metadata": {
    "colab": {
     "base_uri": "https://localhost:8080/",
     "height": 136
    },
    "colab_type": "code",
    "executionInfo": {
     "elapsed": 948,
     "status": "ok",
     "timestamp": 1555219683518,
     "user": {
      "displayName": "Jaydeep Hardikar",
      "photoUrl": "",
      "userId": "03409613889405035405"
     },
     "user_tz": -330
    },
    "id": "Et9-kORmUM37",
    "outputId": "c058057e-303c-4b1e-dce3-14567af0dd1b"
   },
   "outputs": [
    {
     "name": "stdout",
     "output_type": "stream",
     "text": [
      "+---------------+--------------+----------------+-------------------------+-----------------------+\n",
      "| No. of Layers | Dropout Rate | Regularization | TrainLoss at 15th Epoch | ValLoss at 15th Epoch |\n",
      "+---------------+--------------+----------------+-------------------------+-----------------------+\n",
      "|       2       |     0.2      |     0.001      |          0.199          |         0.175         |\n",
      "|       3       |     0.2      |      0.01      |          0.393          |         0.338         |\n",
      "|       5       |     0.3      |      0.01      |          0.607          |         0.472         |\n",
      "+---------------+--------------+----------------+-------------------------+-----------------------+\n"
     ]
    }
   ],
   "source": [
    "from prettytable import PrettyTable\n",
    "cm = PrettyTable()\n",
    "cm.field_names = [\"No. of Layers\",'Dropout Rate',\"Regularization\", \"TrainLoss at 15th Epoch\", \"ValLoss at 15th Epoch\"]\n",
    "cm.add_row([\"2\", L2_droprate,L2_reg,round(L2_trainloss,3),round(L2_valloss,3)])\n",
    "cm.add_row([\"3\", L3_droprate,L3_reg,round(L3_trainloss,3),round(L3_valloss,3)])\n",
    "cm.add_row([\"5\", L5_droprate,L5_reg,round(L5_trainloss,3),round(L5_valloss,3)])\n",
    "print(cm)"
   ]
  }
 ],
 "metadata": {
  "colab": {
   "name": "Copy of Keras MNIST Assignment (Jaydeep).ipynb",
   "provenance": [
    {
     "file_id": "1DKucj2TGklwsudeCShoM0NvsO5SJDQdn",
     "timestamp": 1555219719079
    }
   ],
   "version": "0.3.2"
  },
  "kernelspec": {
   "display_name": "Python 3",
   "language": "python",
   "name": "python3"
  },
  "language_info": {
   "codemirror_mode": {
    "name": "ipython",
    "version": 3
   },
   "file_extension": ".py",
   "mimetype": "text/x-python",
   "name": "python",
   "nbconvert_exporter": "python",
   "pygments_lexer": "ipython3",
   "version": "3.6.4"
  }
 },
 "nbformat": 4,
 "nbformat_minor": 1
}
